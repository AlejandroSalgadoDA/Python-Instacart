{
 "cells": [
  {
   "cell_type": "markdown",
   "id": "820e9684",
   "metadata": {},
   "source": [
    "# 1 Importing libraries"
   ]
  },
  {
   "cell_type": "code",
   "execution_count": 1,
   "id": "257d00ee",
   "metadata": {},
   "outputs": [],
   "source": [
    "# Import libraries \n",
    "import pandas as pd\n",
    "import numpy as np\n",
    "import os"
   ]
  },
  {
   "cell_type": "markdown",
   "id": "7fdaed75",
   "metadata": {},
   "source": [
    "# 2 Data Types"
   ]
  },
  {
   "cell_type": "code",
   "execution_count": 16,
   "id": "1b2942fc",
   "metadata": {},
   "outputs": [
    {
     "data": {
      "text/plain": [
       "100"
      ]
     },
     "execution_count": 16,
     "metadata": {},
     "output_type": "execute_result"
    }
   ],
   "source": [
    "# calculating variables\n",
    "50 + 50"
   ]
  },
  {
   "cell_type": "code",
   "execution_count": 3,
   "id": "ba1d289d",
   "metadata": {},
   "outputs": [
    {
     "data": {
      "text/plain": [
       "100"
      ]
     },
     "execution_count": 3,
     "metadata": {},
     "output_type": "execute_result"
    }
   ],
   "source": [
    "500 - 400"
   ]
  },
  {
   "cell_type": "code",
   "execution_count": 4,
   "id": "3c05dc28",
   "metadata": {},
   "outputs": [],
   "source": [
    "x = 50 "
   ]
  },
  {
   "cell_type": "code",
   "execution_count": 5,
   "id": "e9dccaa3",
   "metadata": {},
   "outputs": [
    {
     "name": "stdout",
     "output_type": "stream",
     "text": [
      "50\n"
     ]
    }
   ],
   "source": [
    "print(x)"
   ]
  },
  {
   "cell_type": "code",
   "execution_count": 6,
   "id": "b09b23f8",
   "metadata": {},
   "outputs": [],
   "source": [
    "y = 50"
   ]
  },
  {
   "cell_type": "code",
   "execution_count": 7,
   "id": "354eaded",
   "metadata": {},
   "outputs": [
    {
     "name": "stdout",
     "output_type": "stream",
     "text": [
      "50\n"
     ]
    }
   ],
   "source": [
    "print(y)"
   ]
  },
  {
   "cell_type": "code",
   "execution_count": 8,
   "id": "3f6891f9",
   "metadata": {},
   "outputs": [
    {
     "data": {
      "text/plain": [
       "100"
      ]
     },
     "execution_count": 8,
     "metadata": {},
     "output_type": "execute_result"
    }
   ],
   "source": [
    "x + y"
   ]
  },
  {
   "cell_type": "code",
   "execution_count": 9,
   "id": "f0f135de",
   "metadata": {},
   "outputs": [],
   "source": [
    "# float \n",
    "z = 5.72"
   ]
  },
  {
   "cell_type": "code",
   "execution_count": 10,
   "id": "a043df80",
   "metadata": {},
   "outputs": [],
   "source": [
    "w = 8.78"
   ]
  },
  {
   "cell_type": "code",
   "execution_count": 11,
   "id": "31956d51",
   "metadata": {},
   "outputs": [
    {
     "data": {
      "text/plain": [
       "float"
      ]
     },
     "execution_count": 11,
     "metadata": {},
     "output_type": "execute_result"
    }
   ],
   "source": [
    "type(z)"
   ]
  },
  {
   "cell_type": "code",
   "execution_count": 12,
   "id": "8653f999",
   "metadata": {},
   "outputs": [
    {
     "data": {
      "text/plain": [
       "0.6514806378132119"
      ]
     },
     "execution_count": 12,
     "metadata": {},
     "output_type": "execute_result"
    }
   ],
   "source": [
    "z/w"
   ]
  },
  {
   "cell_type": "code",
   "execution_count": 13,
   "id": "e96a9f3a",
   "metadata": {},
   "outputs": [],
   "source": [
    "# strings \n",
    "a= 'Hello, '"
   ]
  },
  {
   "cell_type": "code",
   "execution_count": 14,
   "id": "0f241337",
   "metadata": {},
   "outputs": [],
   "source": [
    "b= 'World'"
   ]
  },
  {
   "cell_type": "code",
   "execution_count": 15,
   "id": "758fbea9",
   "metadata": {},
   "outputs": [
    {
     "data": {
      "text/plain": [
       "'Hello, World'"
      ]
     },
     "execution_count": 15,
     "metadata": {},
     "output_type": "execute_result"
    }
   ],
   "source": [
    "a + b "
   ]
  },
  {
   "cell_type": "code",
   "execution_count": 20,
   "id": "cda528ed",
   "metadata": {},
   "outputs": [
    {
     "data": {
      "text/plain": [
       "'I am completing this task'"
      ]
     },
     "execution_count": 20,
     "metadata": {},
     "output_type": "execute_result"
    }
   ],
   "source": [
    "# constructing sentences\n",
    "c = 'I ' \n",
    "d = 'am '\n",
    "e = 'completing '\n",
    "f = 'this '\n",
    "g = 'task'\n",
    "c + d + e + f + g"
   ]
  },
  {
   "cell_type": "code",
   "execution_count": 22,
   "id": "6d38ae96",
   "metadata": {},
   "outputs": [
    {
     "data": {
      "text/plain": [
       "'I am a data analyst '"
      ]
     },
     "execution_count": 22,
     "metadata": {},
     "output_type": "execute_result"
    }
   ],
   "source": [
    "h = 'I am a '\n",
    "i = 'data analyst '\n",
    "h + i"
   ]
  },
  {
   "cell_type": "code",
   "execution_count": 23,
   "id": "70e9c59a",
   "metadata": {},
   "outputs": [
    {
     "data": {
      "text/plain": [
       "'data analyst data analyst data analyst data analyst data analyst data analyst data analyst data analyst data analyst data analyst data analyst data analyst data analyst data analyst data analyst data analyst data analyst data analyst data analyst data analyst data analyst data analyst data analyst data analyst data analyst data analyst data analyst data analyst data analyst data analyst data analyst data analyst data analyst data analyst data analyst data analyst data analyst data analyst data analyst data analyst data analyst data analyst data analyst data analyst data analyst data analyst data analyst data analyst data analyst data analyst data analyst data analyst data analyst data analyst data analyst data analyst data analyst data analyst data analyst data analyst data analyst data analyst data analyst data analyst data analyst data analyst data analyst data analyst data analyst data analyst data analyst data analyst data analyst data analyst data analyst data analyst data analyst data analyst data analyst data analyst data analyst data analyst data analyst data analyst data analyst data analyst data analyst data analyst data analyst data analyst data analyst data analyst data analyst data analyst data analyst data analyst data analyst data analyst data analyst data analyst '"
      ]
     },
     "execution_count": 23,
     "metadata": {},
     "output_type": "execute_result"
    }
   ],
   "source": [
    "# Bonus \n",
    "i * 100"
   ]
  },
  {
   "cell_type": "code",
   "execution_count": null,
   "id": "c226e643",
   "metadata": {},
   "outputs": [],
   "source": []
  }
 ],
 "metadata": {
  "kernelspec": {
   "display_name": "Python 3 (ipykernel)",
   "language": "python",
   "name": "python3"
  },
  "language_info": {
   "codemirror_mode": {
    "name": "ipython",
    "version": 3
   },
   "file_extension": ".py",
   "mimetype": "text/x-python",
   "name": "python",
   "nbconvert_exporter": "python",
   "pygments_lexer": "ipython3",
   "version": "3.9.12"
  }
 },
 "nbformat": 4,
 "nbformat_minor": 5
}
